{
 "cells": [
  {
   "cell_type": "markdown",
   "metadata": {},
   "source": [
    "# FINM 250 - TA Review 5 - A Safari of Python's Builtins\n",
    "\n",
    "## Tobias Rodriguez del Pozo\n",
    "\n",
    "In general, Python is designed to be easy and fast to write (note that this does not apply to some libraries, like `numpy` and `pandas`). Thus, it has a lot of built-in functions that are very useful. In this review, we will go over some of the most useful ones. Most of the time, when you are trying to do something with the basic data-types, there is already a built-in function that does it for you. When in doubt, check the documentation, or Google/your AI bot of choice. I have spent an embarrassing amount of time reading the documentation for built-in functions**, and writing code that is already written for me.\n",
    "\n",
    "\n",
    "** This does make for a good party trick in some circles, though.\n",
    "\n",
    "## 0 - Basics: Lists, Tuples, Dictionaries, Sets\n",
    "\n",
    "https://docs.python.org/3/library/stdtypes.html#\n",
    "\n",
    "https://docs.python.org/3/library/stdtypes.html#set-types-set-frozenset\n",
    "\n",
    "https://docs.python.org/3/library/stdtypes.html#mapping-types-dict\n",
    "\n",
    "https://docs.python.org/3/library/stdtypes.html#sequence-types-list-tuple-range"
   ]
  },
  {
   "cell_type": "code",
   "execution_count": null,
   "metadata": {},
   "outputs": [],
   "source": [
    "# Some of the more useful ones:\n",
    "x = set([1, 2, 3, 4, 5])\n",
    "y = set([3, 4, 5, 6, 7])\n",
    "\n",
    "# x.intersection(y)\n",
    "# x.union(y)\n",
    "# x.difference(y)\n",
    "\n",
    "# Lists\n",
    "l = [1, 2, 3, 4, 5, 6, 7, 8, 3]\n",
    "# l.index(3)\n",
    "# l.index(3, 4)\n",
    "# l.count(3)"
   ]
  },
  {
   "cell_type": "code",
   "execution_count": null,
   "metadata": {},
   "outputs": [],
   "source": [
    "# Use of list slicing also applies to strings and DataFrames!\n",
    "# Think about why this might be the case. what is the general concept\n",
    "# that allows us to both loop through something and also slice it?\n",
    "# The _getitem_ method is the key here.\n",
    "\n",
    "my_list = [i for i in range (10)]\n",
    "\n",
    "# Get the first 5 elements\n",
    "first_five = my_list[:5]\n",
    "\n",
    "# Get last 5 elements\n",
    "last_five = my_list[-5:]\n",
    "\n",
    "# get the middle 5 elements\n",
    "middle_five = my_list[2:7]\n",
    "\n",
    "# Get every second element\n",
    "every_second = my_list[::2]\n",
    "\n",
    "# Get every second element starting from 3\n",
    "every_second_from_three = my_list[3::2]\n",
    "\n",
    "# Reverse the list\n",
    "reversed_list = my_list[::-1]\n",
    "\n",
    "# Get the first 5 elements, but in reverse\n",
    "first_five_reversed = my_list[4::-1]\n",
    "\n",
    "# [4] -> list,\n",
    "\n",
    "\n",
    "# etc.\n",
    "\n",
    "# my_list.getitem__(slice(2, 7))\n",
    "slice()"
   ]
  },
  {
   "cell_type": "code",
   "execution_count": 1,
   "metadata": {},
   "outputs": [
    {
     "data": {
      "text/plain": [
       "{'a': 0, 'e': 1, 'i': 0, 'o': 2, 'u': 0}"
      ]
     },
     "execution_count": 1,
     "metadata": {},
     "output_type": "execute_result"
    }
   ],
   "source": [
    "# 1. Create a function called return_num_vowels that accepts an\n",
    "# input string and returns a dictionary where the keys are the vowels\n",
    "# a, e, i, o, u, and the values are the count of the vowels.\n",
    "\n",
    "\n",
    "def return_num_vowels(s):\n",
    "    s = s.lower()\n",
    "    return {k: s.count(k) for k in [*\"aeiou\"]} # it returns how many times each vowel appears in the string\n",
    "\n",
    "return_num_vowels(\"Hello World\")  # {'a': 0, 'e': 1, 'i': 0, 'o': 2, 'u': 0}"
   ]
  },
  {
   "cell_type": "markdown",
   "metadata": {},
   "source": [
    "## 1 - Collections Module\n",
    "\n",
    "https://docs.python.org/3/library/collections.html"
   ]
  },
  {
   "cell_type": "code",
   "execution_count": 2,
   "metadata": {},
   "outputs": [
    {
     "data": {
      "text/plain": [
       "[('d', 7), ('a', 6), ('s', 6)]"
      ]
     },
     "execution_count": 2,
     "metadata": {},
     "output_type": "execute_result"
    }
   ],
   "source": [
    "# Leetcode question: Given a string, how do I find the first n characters that are most common?\n",
    "\n",
    "\n",
    "# One solution:\n",
    "def most_common(s, n):\n",
    "    counts = {}\n",
    "    # this is a dictionary that will hold the counts of each character\n",
    "    for c in s:\n",
    "        if c in counts:\n",
    "            counts[c] += 1 # increment the count if the character is already in the dictionary\n",
    "        else:\n",
    "            counts[c] = 1 # initialize the count to 1 if the character is not in the dictionary\n",
    "    # now we have a dictionary with the counts of each character\n",
    "    # we can sort the dictionary by the counts and return the top n characters\n",
    "    # sorted() returns a list of tuples (key, value) sorted by the value in descending order\n",
    "    # we use a lambda function to specify that we want to sort by the second element of the tuple (the count)\n",
    "    # we use reverse=True to sort in descending order\n",
    "    # we use [:n] to get the top n characters\n",
    "    # we return a list of tuples (character, count)\n",
    "\n",
    "    return sorted(counts.items(), key=lambda x: x[1], reverse=True)[:n] #count in descendiung order\n",
    "\n",
    "\n",
    "most_common(\"djasodoijdasoijdbweoqbeqwobieqwpiehq9e-9e-asdpiasdjasdnpsao\", 3)"
   ]
  },
  {
   "cell_type": "code",
   "execution_count": null,
   "metadata": {},
   "outputs": [],
   "source": [
    "# Or, using the Counter class in the collections module!\n",
    "from collections import Counter\n",
    "\n",
    "\n",
    "def most_common(s, n):\n",
    "    return Counter(s).most_common(n)\n",
    "\n",
    "\n",
    "most_common(\"djasodoijdasoijdbweoqbeqwobieqwpiehq9e-9e-asdpiasdjasdnpsao\", 3)"
   ]
  },
  {
   "cell_type": "code",
   "execution_count": null,
   "metadata": {},
   "outputs": [
    {
     "data": {
      "text/plain": [
       "False"
      ]
     },
     "execution_count": 4,
     "metadata": {},
     "output_type": "execute_result"
    }
   ],
   "source": [
    "my_dict = {}\n",
    "\"1\" in my_dict # False, because the key \"1\" does not exist in the dictionary"
   ]
  },
  {
   "cell_type": "code",
   "execution_count": 5,
   "metadata": {},
   "outputs": [],
   "source": [
    "# Common problem #2: How do I append something to a dictionary if I don't know if the key exists?\n",
    "def append_to_dict(d, k, v):\n",
    "    if k in d:\n",
    "        d[k].append(v)\n",
    "    else:\n",
    "        d[k] = [v]\n",
    "\n",
    "\n",
    "d = {}\n",
    "append_to_dict(d, \"a\", 1)"
   ]
  },
  {
   "cell_type": "code",
   "execution_count": null,
   "metadata": {},
   "outputs": [],
   "source": [
    "# Solution: use defaultdict!\n",
    "# if i find a key that does not exist, it will automatically create a new key with the default value\n",
    "# default value is set to 0 for int, empty list for list, etc.\n",
    "from collections import defaultdict\n",
    "\n",
    "d = defaultdict(int)\n",
    "\n",
    "d[\"a\"] += 1"
   ]
  },
  {
   "cell_type": "code",
   "execution_count": null,
   "metadata": {},
   "outputs": [
    {
     "data": {
      "text/plain": [
       "0"
      ]
     },
     "execution_count": 7,
     "metadata": {},
     "output_type": "execute_result"
    }
   ],
   "source": [
    "int() # defaul value of integer is 0"
   ]
  },
  {
   "cell_type": "code",
   "execution_count": null,
   "metadata": {},
   "outputs": [],
   "source": [
    "# Common problem #3: How do I combine two dictionaries?\n",
    "\n",
    "# One solution:\n",
    "my_dict = {\"a\": 1, \"b\": 2}\n",
    "other_dict = {\"c\": 3, \"d\": 4}\n",
    "\n",
    "my_dict.update(other_dict)"
   ]
  },
  {
   "cell_type": "code",
   "execution_count": null,
   "metadata": {},
   "outputs": [],
   "source": [
    "# Maybe a better solution:\n",
    "new_dict = {**my_dict, **other_dict} # double star means unpacking the dictionary"
   ]
  },
  {
   "cell_type": "code",
   "execution_count": null,
   "metadata": {},
   "outputs": [],
   "source": [
    "# Or, for higher speed: use ChainMap!\n",
    "from collections import ChainMap\n",
    "\n",
    "ChainMap(my_dict, other_dict)"
   ]
  },
  {
   "cell_type": "code",
   "execution_count": null,
   "metadata": {},
   "outputs": [],
   "source": [
    "# Problem #4: Suppose you have a list that you want to append left to. How do you do it?\n",
    "# l = [1]\n",
    "# l.append(2) -> [1,2]\n",
    "# [2,1]\n",
    "def iter_list():\n",
    "    l = []\n",
    "    # left append\n",
    "    for i in range(1_000_00):\n",
    "        l.insert(0, i)\n",
    "    for i in range(1_000_00):\n",
    "        l.pop()\n",
    "\n",
    "\n",
    "%timeit iter_list()"
   ]
  },
  {
   "cell_type": "code",
   "execution_count": null,
   "metadata": {},
   "outputs": [],
   "source": [
    "# One solution:\n",
    "def iter_list():\n",
    "    l = []\n",
    "    # left append\n",
    "    for i in range(1_000_00):\n",
    "        l.append(i)\n",
    "    l = l[::-1]\n",
    "    for i in range(1_000_00):\n",
    "        l.pop()\n",
    "\n",
    "\n",
    "%timeit iter_list()"
   ]
  },
  {
   "cell_type": "code",
   "execution_count": null,
   "metadata": {},
   "outputs": [],
   "source": [
    "# Better solution: use a deque!\n",
    "# deque allows you to insert to the left and right efficiently\n",
    "from collections import deque\n",
    "\n",
    "\n",
    "def iter_deque():\n",
    "    d = deque()\n",
    "    for i in range(1_000_00):\n",
    "        d.appendleft(i)\n",
    "    for i in range(10_000):\n",
    "        d.append(i)\n",
    "    for i in range(1_000_00):\n",
    "        d.pop()\n",
    "\n",
    "\n",
    "%timeit iter_deque()"
   ]
  },
  {
   "cell_type": "markdown",
   "metadata": {},
   "source": [
    "## 2 - String Module\n",
    "\n",
    "https://docs.python.org/3/library/string.html\n",
    "\n",
    "https://docs.python.org/3/library/stdtypes.html#textseq\n",
    "\n",
    "But wait, aren't strings super easy?"
   ]
  },
  {
   "cell_type": "code",
   "execution_count": 12,
   "metadata": {},
   "outputs": [],
   "source": [
    "import string\n",
    "\n",
    "string.ascii_letters\n",
    "string.ascii_lowercase\n",
    "string.ascii_uppercase\n",
    "string.digits\n",
    "string.punctuation\n",
    "\n",
    "# Example: remove all the letters \"abc\" from a string\n",
    "\n",
    "\n",
    "# One solution:\n",
    "def remove_abc(s):\n",
    "    return s.replace(\"a\", \"\").replace(\"b\", \"\").replace(\"c\", \"\")\n",
    "\n",
    "\n",
    "# Or:\n",
    "def remove_abc(s):\n",
    "    \"\".join([c for c in s if c not in \"abc\"])\n",
    "\n",
    "# remove all the letters \"abc\" from a string\n",
    "remove_abc(\"ashiduifljs\")"
   ]
  },
  {
   "cell_type": "code",
   "execution_count": null,
   "metadata": {},
   "outputs": [],
   "source": [
    "# splitting a string by a character\n",
    "\"ashiduifljs\".split(\"u\")\n",
    "\n"
   ]
  },
  {
   "cell_type": "code",
   "execution_count": null,
   "metadata": {},
   "outputs": [],
   "source": [
    "# Better solution:\n",
    "def remove_abc(s):\n",
    "    t = str.maketrans(\"\", \"\", \"abc\")\n",
    "    return s.translate(t)\n",
    "\n",
    "\n",
    "remove_abc(\"abcde\")"
   ]
  },
  {
   "cell_type": "code",
   "execution_count": null,
   "metadata": {},
   "outputs": [],
   "source": [
    "# \"abc\".endswith(\"c\")\n",
    "# \"abc\".find(\"c\")\n",
    "# \"abc\".isalnum() # .islower(), .isupper(), .isalpha(), .isdigit(), .isspace()\n",
    "# \"a b c\".split(\" \")\n",
    "\" \".join([*\"abc\"])"
   ]
  },
  {
   "cell_type": "markdown",
   "metadata": {},
   "source": [
    "## 3 - Itertools Module"
   ]
  },
  {
   "cell_type": "code",
   "execution_count": null,
   "metadata": {},
   "outputs": [],
   "source": [
    "# Note that we have already talked about pairwise in a previous review session.\n",
    "# Goal: [1, 2, 3, 4] -> [(1, 2), (2, 3), (3, 4)]\n",
    "# Solution 1:\n",
    "def pairwise(l):\n",
    "    return list(zip(l[:-1], l[1:]))\n",
    "\n",
    "\n",
    "# Solution 2:\n",
    "from itertools import pairwise\n",
    "\n",
    "\n",
    "def make_pairs(l):\n",
    "    return list(pairwise(l))"
   ]
  },
  {
   "cell_type": "code",
   "execution_count": null,
   "metadata": {},
   "outputs": [],
   "source": [
    "# Count, cycle, repeat\n",
    "# Goal: [1, 2, 3, 4] -> [1, 2, 3, 4, 1, 2, 3, 4, ...]\n",
    "\n",
    "# Works for lists, but what if our input is more complicated?\n",
    "l_repeat = [1, 2, 3, 4] * 5\n",
    "\n",
    "\n",
    "from itertools import cycle, repeat\n",
    "\n",
    "\n",
    "def repeat_list(l, n):\n",
    "    return list(repeat(l, n))\n",
    "\n",
    "\n",
    "def cycle_list(l, n):\n",
    "    return list(cycle(l))"
   ]
  },
  {
   "cell_type": "code",
   "execution_count": 18,
   "metadata": {},
   "outputs": [
    {
     "ename": "KeyboardInterrupt",
     "evalue": "",
     "output_type": "error",
     "traceback": [
      "\u001b[0;31m---------------------------------------------------------------------------\u001b[0m",
      "\u001b[0;31mKeyboardInterrupt\u001b[0m                         Traceback (most recent call last)",
      "Cell \u001b[0;32mIn[18], line 13\u001b[0m\n\u001b[1;32m     11\u001b[0m \u001b[38;5;66;03m# Solution 2:\u001b[39;00m\n\u001b[1;32m     12\u001b[0m \u001b[38;5;28;01mfor\u001b[39;00m i \u001b[38;5;129;01min\u001b[39;00m count(\u001b[38;5;241m10\u001b[39m, \u001b[38;5;241m5\u001b[39m):\n\u001b[0;32m---> 13\u001b[0m     \u001b[38;5;28mprint\u001b[39m(i)\n",
      "File \u001b[0;32m/opt/anaconda3/lib/python3.12/site-packages/ipykernel/iostream.py:652\u001b[0m, in \u001b[0;36mOutStream.write\u001b[0;34m(self, string)\u001b[0m\n\u001b[1;32m    650\u001b[0m \u001b[38;5;66;03m# only touch the buffer in the IO thread to avoid races\u001b[39;00m\n\u001b[1;32m    651\u001b[0m \u001b[38;5;28;01mwith\u001b[39;00m \u001b[38;5;28mself\u001b[39m\u001b[38;5;241m.\u001b[39m_buffer_lock:\n\u001b[0;32m--> 652\u001b[0m     \u001b[38;5;28mself\u001b[39m\u001b[38;5;241m.\u001b[39m_buffer\u001b[38;5;241m.\u001b[39mwrite(string)\n\u001b[1;32m    653\u001b[0m \u001b[38;5;28;01mif\u001b[39;00m is_child:\n\u001b[1;32m    654\u001b[0m     \u001b[38;5;66;03m# mp.Pool cannot be trusted to flush promptly (or ever),\u001b[39;00m\n\u001b[1;32m    655\u001b[0m     \u001b[38;5;66;03m# and this helps.\u001b[39;00m\n\u001b[1;32m    656\u001b[0m     \u001b[38;5;28;01mif\u001b[39;00m \u001b[38;5;28mself\u001b[39m\u001b[38;5;241m.\u001b[39m_subprocess_flush_pending:\n",
      "\u001b[0;31mKeyboardInterrupt\u001b[0m: "
     ]
    }
   ],
   "source": [
    "# Infinite counter:\n",
    "from itertools import count\n",
    "\n",
    "# Solution 1:\n",
    "i = 10\n",
    "while True:\n",
    "    print(i)\n",
    "    i += 1\n",
    "    break\n",
    "\n",
    "# Solution 2:\n",
    "for i in count(10, 5):\n",
    "    print(i)"
   ]
  },
  {
   "cell_type": "code",
   "execution_count": null,
   "metadata": {},
   "outputs": [],
   "source": [
    "# product, permutations, combinations\n",
    "a = [1, 2, 3]\n",
    "\n",
    "# Solution 1:\n",
    "for i in range(len(a)):\n",
    "    for j in range(i + 1, len(a)):\n",
    "        print(a[i], a[j])\n",
    "\n",
    "\n",
    "# Solution 2:\n",
    "from itertools import combinations\n",
    "\n",
    "for i, j in combinations(a, 2):\n",
    "    print(i, j)\n",
    "\n",
    "# Cartesian product:\n",
    "# Solution 1:\n",
    "for i in a:\n",
    "    for j in a:\n",
    "        print(i, j)\n",
    "\n",
    "# Solution 2:\n",
    "from itertools import product\n",
    "\n",
    "for i, j in product(a, a):\n",
    "    print(i, j)\n",
    "\n",
    "\n",
    "# Permutations:\n",
    "# Solution 1:\n",
    "for i in a:\n",
    "    for j in a:\n",
    "        if i != j:\n",
    "            print(i, j)\n",
    "\n",
    "# Solution 2:\n",
    "from itertools import permutations\n",
    "\n",
    "for i, j in permutations(a, 2):\n",
    "    print(i, j)"
   ]
  },
  {
   "cell_type": "code",
   "execution_count": null,
   "metadata": {},
   "outputs": [],
   "source": [
    "# Chain and chain.from_iterable\n",
    "# GOAL: [[1, 2, 3], [4, 5, 6]] -> [1, 2, 3, 4, 5, 6]\n",
    "ll = [[1, 2, 3], [4, 5, 6]]\n",
    "# Solution 1:\n",
    "new_l = []\n",
    "for l in ll:\n",
    "    for i in l:\n",
    "        new_l.append(i)\n",
    "\n",
    "# Solution 2:\n",
    "from itertools import chain\n",
    "\n",
    "new_l = []\n",
    "for i in chain(*ll):\n",
    "    new_l.append(i)\n",
    "\n",
    "# Solution 3:\n",
    "new_l = list(chain.from_iterable(ll))"
   ]
  },
  {
   "cell_type": "code",
   "execution_count": null,
   "metadata": {},
   "outputs": [],
   "source": [
    "# Dropwhile and takewhile\n",
    "# GOAL: [1, 2, 3, 4, 5, 6] -> [1, 2, 3]\n",
    "l = [1, 2, 3, 4, 5, 6]\n",
    "\n",
    "# Solution 1:\n",
    "new_l = []\n",
    "for i in l:\n",
    "    if i < 4:\n",
    "        new_l.append(i)\n",
    "    else:\n",
    "        break\n",
    "\n",
    "# Solution 2:\n",
    "from itertools import takewhile\n",
    "\n",
    "new_l = list(takewhile(lambda x: x < 4, l))\n",
    "\n",
    "# Solution 3:\n",
    "from itertools import dropwhile\n",
    "\n",
    "new_l = list(dropwhile(lambda x: x >= 4, l))"
   ]
  }
 ],
 "metadata": {
  "kernelspec": {
   "display_name": "base",
   "language": "python",
   "name": "python3"
  },
  "language_info": {
   "codemirror_mode": {
    "name": "ipython",
    "version": 3
   },
   "file_extension": ".py",
   "mimetype": "text/x-python",
   "name": "python",
   "nbconvert_exporter": "python",
   "pygments_lexer": "ipython3",
   "version": "3.12.7"
  },
  "orig_nbformat": 4
 },
 "nbformat": 4,
 "nbformat_minor": 2
}
