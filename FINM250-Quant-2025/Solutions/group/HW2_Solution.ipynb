{
  "cells": [
    {
      "cell_type": "code",
      "execution_count": 15,
      "id": "eiwXLUM2Hek6",
      "metadata": {
        "colab": {
          "base_uri": "https://localhost:8080/"
        },
        "id": "eiwXLUM2Hek6",
        "outputId": "45ca49b5-3673-44db-933b-08d6685754bf"
      },
      "outputs": [],
      "source": [
        "import pandas as pd\n",
        "import numpy as np\n",
        "import statsmodels.api as sm\n",
        "import seaborn as sns"
      ]
    },
    {
      "cell_type": "markdown",
      "id": "e3eee68c",
      "metadata": {
        "id": "e3eee68c"
      },
      "source": [
        "# Homework 2\n",
        "\n",
        "## FINM 25000 - 2025\n",
        "\n",
        "### UChicago Financial Mathematics\n",
        "\n",
        "* Mark Hendricks\n",
        "* hendricks@uchicago.edu\n",
        "\n",
        "## HBS Case\n",
        "\n",
        "### *ProShares Hedge Replication ETF*"
      ]
    },
    {
      "cell_type": "markdown",
      "id": "3ed4b263",
      "metadata": {
        "id": "3ed4b263"
      },
      "source": [
        "***"
      ]
    },
    {
      "cell_type": "markdown",
      "id": "32a1eb4b",
      "metadata": {
        "id": "32a1eb4b"
      },
      "source": [
        "# 1. The ProShares ETF Product\n",
        "\n",
        "**Section 1 is not graded**, and you do not need to submit your answers. But you are encouraged to think about them, and we will discuss them."
      ]
    },
    {
      "cell_type": "markdown",
      "id": "976c4cd6",
      "metadata": {
        "id": "976c4cd6"
      },
      "source": [
        "## 1. Alternative ETFs\n",
        "\n",
        "Describe the two types of investments referenced by this term.\n",
        "\n",
        "Answer:\n",
        "\n",
        "The two types of investments referenced by \"Alternative ETFs\" are (1) alternative asset classes that are not \"mainstream\" such real estate, commodities previous metal, currencies and volatility, and (2) alternative strategies that are unconventional investment processes such as geared investing, L/S strats, market neutral, absolute return, convertable/merger arb., managed futures, global macro."
      ]
    },
    {
      "cell_type": "markdown",
      "id": "a350c607",
      "metadata": {
        "id": "a350c607"
      },
      "source": [
        "## 2. Hedge Funds.\n",
        "\n",
        "\n",
        "* a. Using just the information in the case, what are two measures by which hedge funds are an attractive investment?\n",
        "\n",
        "1. Attractive returns. From 1994 to 2013, hedge funds had 10% higher retursn than stock and more than twice as much as bonds. Additionally, hedge funds provided a \"smoother ride\" (i.e. a lower vol.).\n",
        "2. Attractive risk-return characteristics in terms of sharpe ratio. Hedge funds has less than half the vol. of the S&P 500 and had annualized returns less than 1% lower than those respective companies. As a result, hedge fund allocation could provide a dominant efficient frontier and diversification benefits.\n",
        "\n",
        "* b. What are the main benefits of investing in hedge funds via an ETF instead of directly?\n",
        "\n",
        "There are many benefits for investing in hedge fund ETFs compared to direct investment.\n",
        "- Democratization: more access for retail investors to hedge fund beta, rules-based investments strategy, lower fees (more money in the hands of investors)\n",
        "- - Accessibility\n",
        "- - Transparency\n",
        "- - Lower fees\n",
        "- - Liquidity\n",
        "- - Diversification\n",
        "- - Regulatory oversight\n",
        "- - Tax reporting"
      ]
    },
    {
      "cell_type": "markdown",
      "id": "f1c6d57d",
      "metadata": {
        "id": "f1c6d57d"
      },
      "source": [
        "## 3. The Benchmarks\n",
        "\n",
        "* a. Explain as simply as possible how HFRI, MLFM, MLFM-ES, and HDG differ in their construction and purpose.\n",
        "\n",
        "- - HFRI: a index available for hedge fund investors that was designed to reflect the collective performance of hedge funds through an equally weighted composite of over 2,000 constituent hedge funds that were available to accredited investors\n",
        "- - MLFM: a statistical multi-factor model designed to track the performance of hedge funds (Factors: S&P 500, Russell 2000, MSCI EAFE, MSCI Emerging Markets, Eurodollar/US dollar exchange rate, three-month Eurodollar Deposit yields)\n",
        "- - MLFM-ES: an adapted version MLFM but the six index components were tradable, the three-month Eurodollar deposit yields were replaced with US Treasury Bills and the dollar/euro exchange rates were replaced with ProShares UltraShort Euro (EUO)\n",
        "- - HDG: Hedge Fund Replication ETF, a ProShare's liquid alternative strategy product that provided exposure to hedge funds at low fees, with full transparency and providing daily liquidity\n",
        "\n",
        "* b. How well does the Merrill Lynch Factor Model (MLFM) track the HFRI?\n",
        "\n",
        "- - The MLFM had a correlation coefficient of 90% with HFRI\n",
        "\n",
        "* c. In which factor does the MLFM have the largest loading? (See a slide in Exhibit 1.)\n",
        "\n",
        "- - The factor with the largest loading was the 3-month T-Bills\n",
        "\n",
        "* d. What are the main concerns you have for how the MLFM attempts to replicate the HFRI?\n",
        "\n",
        "- - The factors were limited and didn't fully envelope potential sources of returns in HFRI\n",
        "- - The regression used to determine the weights was backward-looking and lagged behind changes in hedge fund styles\n",
        "- - Whether the model captures hedge fund alpha or beta. The purpose of investing is to earn \"alpha\" but if MLFM only captured beta to the factor than it might not replicate the skill of the hedge fund managers\n"
      ]
    },
    {
      "cell_type": "markdown",
      "id": "8247c669",
      "metadata": {
        "id": "8247c669"
      },
      "source": [
        "## 4. The HDG Product\n",
        "\n",
        "* a. What does ProShares ETF, HDG, attempt to track? Is the tracking error small?\n",
        "\n",
        "- - HDG attempts to track the performance of MLFM --> MLFM-ES with a very high correlation (99.7%).\n",
        "\n",
        "* b. HDG is, by construction, delivering beta for investors. Isn't the point of hedge funds to generate alpha? Then why would HDG be valuable?\n",
        "\n",
        "- - Yes, the point of hedge funds is to generate alpha. However, HDG is valuable since it provides the benefits of hedge funds ETFs as mentioned earlier including: accessibility, transperancy, lower fees, liquidity, etc.\n",
        "\n",
        "* c. The fees of a typical hedge-fund are 2% on total assets plus 20% of excess returns if positive. HDG's expense ratio is roughly 1% on total assets. What would their respective net Sharpe Ratios be, assuming both have a gross excess returns of 10% and volatility of 20%?\n"
      ]
    },
    {
      "cell_type": "code",
      "execution_count": 16,
      "id": "21514ab5",
      "metadata": {
        "colab": {
          "base_uri": "https://localhost:8080/"
        },
        "id": "21514ab5",
        "outputId": "31dec906-d3d4-46ad-92b5-78473d6c8704"
      },
      "outputs": [
        {
          "name": "stdout",
          "output_type": "stream",
          "text": [
            " The sharpe ratio would be: 0.39\n"
          ]
        }
      ],
      "source": [
        "sharpe_ratio = ((1 - 0.02) * (1 - 0.2) * (1 - 0.01) * 0.1) / 0.2\n",
        "\n",
        "print(f\" The sharpe ratio would be: {sharpe_ratio:.2f}\")"
      ]
    },
    {
      "cell_type": "markdown",
      "id": "ecd7e292",
      "metadata": {
        "id": "ecd7e292"
      },
      "source": [
        "***"
      ]
    },
    {
      "cell_type": "markdown",
      "id": "fbbf79a1",
      "metadata": {
        "id": "fbbf79a1"
      },
      "source": [
        "# 2.  Analyzing the Data\n",
        "\n",
        "Use the data found on Canvas, in <b>'proshares analysis data.xlsx'</b>.\n",
        "\n",
        "It has monthly data on financial indexes and ETFs from `Aug 2011` through `May 2025`."
      ]
    },
    {
      "cell_type": "markdown",
      "id": "oqa02pfVlaAw",
      "metadata": {
        "id": "oqa02pfVlaAw"
      },
      "source": [
        "Note: we will be using the 2024 dataset due to the missing HFRI column in the 2025 dataset."
      ]
    },
    {
      "cell_type": "code",
      "execution_count": 17,
      "id": "c1bd465f",
      "metadata": {
        "colab": {
          "base_uri": "https://localhost:8080/",
          "height": 310
        },
        "id": "c1bd465f",
        "outputId": "c72e1be1-68e3-4bc4-ef00-23402a6ffdc8"
      },
      "outputs": [
        {
          "data": {
            "text/html": [
              "<div>\n",
              "<style scoped>\n",
              "    .dataframe tbody tr th:only-of-type {\n",
              "        vertical-align: middle;\n",
              "    }\n",
              "\n",
              "    .dataframe tbody tr th {\n",
              "        vertical-align: top;\n",
              "    }\n",
              "\n",
              "    .dataframe thead th {\n",
              "        text-align: right;\n",
              "    }\n",
              "</style>\n",
              "<table border=\"1\" class=\"dataframe\">\n",
              "  <thead>\n",
              "    <tr style=\"text-align: right;\">\n",
              "      <th></th>\n",
              "      <th>HFRIFWI Index</th>\n",
              "      <th>MLEIFCTR Index</th>\n",
              "      <th>MLEIFCTX Index</th>\n",
              "      <th>HDG US Equity</th>\n",
              "      <th>QAI US Equity</th>\n",
              "    </tr>\n",
              "  </thead>\n",
              "  <tbody>\n",
              "    <tr>\n",
              "      <th>2011-08-31</th>\n",
              "      <td>-0.032149</td>\n",
              "      <td>-0.025588</td>\n",
              "      <td>-0.025689</td>\n",
              "      <td>-0.027035</td>\n",
              "      <td>-0.006491</td>\n",
              "    </tr>\n",
              "    <tr>\n",
              "      <th>2011-09-30</th>\n",
              "      <td>-0.038903</td>\n",
              "      <td>-0.032414</td>\n",
              "      <td>-0.032593</td>\n",
              "      <td>-0.032466</td>\n",
              "      <td>-0.022142</td>\n",
              "    </tr>\n",
              "    <tr>\n",
              "      <th>2011-10-31</th>\n",
              "      <td>0.026858</td>\n",
              "      <td>0.043593</td>\n",
              "      <td>0.043320</td>\n",
              "      <td>0.050532</td>\n",
              "      <td>0.025241</td>\n",
              "    </tr>\n",
              "    <tr>\n",
              "      <th>2011-11-30</th>\n",
              "      <td>-0.013453</td>\n",
              "      <td>-0.012142</td>\n",
              "      <td>-0.012431</td>\n",
              "      <td>-0.028608</td>\n",
              "      <td>-0.007965</td>\n",
              "    </tr>\n",
              "    <tr>\n",
              "      <th>2011-12-31</th>\n",
              "      <td>-0.004479</td>\n",
              "      <td>0.001938</td>\n",
              "      <td>0.001796</td>\n",
              "      <td>0.012875</td>\n",
              "      <td>0.001854</td>\n",
              "    </tr>\n",
              "  </tbody>\n",
              "</table>\n",
              "</div>"
            ],
            "text/plain": [
              "            HFRIFWI Index  MLEIFCTR Index  MLEIFCTX Index  HDG US Equity  \\\n",
              "2011-08-31      -0.032149       -0.025588       -0.025689      -0.027035   \n",
              "2011-09-30      -0.038903       -0.032414       -0.032593      -0.032466   \n",
              "2011-10-31       0.026858        0.043593        0.043320       0.050532   \n",
              "2011-11-30      -0.013453       -0.012142       -0.012431      -0.028608   \n",
              "2011-12-31      -0.004479        0.001938        0.001796       0.012875   \n",
              "\n",
              "            QAI US Equity  \n",
              "2011-08-31      -0.006491  \n",
              "2011-09-30      -0.022142  \n",
              "2011-10-31       0.025241  \n",
              "2011-11-30      -0.007965  \n",
              "2011-12-31       0.001854  "
            ]
          },
          "execution_count": 17,
          "metadata": {},
          "output_type": "execute_result"
        }
      ],
      "source": [
        "hedge_fund_series_df_2024 = pd.read_excel(io = \"./proshares_analysis_data_2024.xlsx\",\n",
        "                                     sheet_name='hedge_fund_series',\n",
        "                                     index_col=0,\n",
        "                                     parse_dates=[0])\n",
        "\n",
        "hedge_fund_series_df_2024.head(5)"
      ]
    },
    {
      "cell_type": "markdown",
      "id": "22b7389c",
      "metadata": {
        "id": "22b7389c"
      },
      "source": [
        "## 1.\n",
        "\n",
        "For the series in the \"hedge fund series\" tab, report the following summary statistics:\n",
        "* mean\n",
        "* volatility\n",
        "* Sharpe ratio\n",
        "\n",
        "Annualize these statistics."
      ]
    },
    {
      "cell_type": "code",
      "execution_count": 18,
      "id": "e029c833",
      "metadata": {
        "colab": {
          "base_uri": "https://localhost:8080/",
          "height": 196
        },
        "id": "e029c833",
        "outputId": "88cf7b71-bd69-4faf-f7b0-3bc13448f746"
      },
      "outputs": [
        {
          "data": {
            "text/html": [
              "<div>\n",
              "<style scoped>\n",
              "    .dataframe tbody tr th:only-of-type {\n",
              "        vertical-align: middle;\n",
              "    }\n",
              "\n",
              "    .dataframe tbody tr th {\n",
              "        vertical-align: top;\n",
              "    }\n",
              "\n",
              "    .dataframe thead th {\n",
              "        text-align: right;\n",
              "    }\n",
              "</style>\n",
              "<table border=\"1\" class=\"dataframe\">\n",
              "  <thead>\n",
              "    <tr style=\"text-align: right;\">\n",
              "      <th></th>\n",
              "      <th>HFRIFWI Index</th>\n",
              "      <th>MLEIFCTR Index</th>\n",
              "      <th>MLEIFCTX Index</th>\n",
              "      <th>HDG US Equity</th>\n",
              "      <th>QAI US Equity</th>\n",
              "    </tr>\n",
              "  </thead>\n",
              "  <tbody>\n",
              "    <tr>\n",
              "      <th>Annualized Mean</th>\n",
              "      <td>0.041447</td>\n",
              "      <td>0.030670</td>\n",
              "      <td>0.029239</td>\n",
              "      <td>0.019442</td>\n",
              "      <td>0.016958</td>\n",
              "    </tr>\n",
              "    <tr>\n",
              "      <th>Annualized Volatility</th>\n",
              "      <td>0.060416</td>\n",
              "      <td>0.057147</td>\n",
              "      <td>0.056985</td>\n",
              "      <td>0.059589</td>\n",
              "      <td>0.049895</td>\n",
              "    </tr>\n",
              "    <tr>\n",
              "      <th>Annualized Sharpe Ratio</th>\n",
              "      <td>0.686023</td>\n",
              "      <td>0.536686</td>\n",
              "      <td>0.513102</td>\n",
              "      <td>0.326268</td>\n",
              "      <td>0.339873</td>\n",
              "    </tr>\n",
              "  </tbody>\n",
              "</table>\n",
              "</div>"
            ],
            "text/plain": [
              "                         HFRIFWI Index  MLEIFCTR Index  MLEIFCTX Index  \\\n",
              "Annualized Mean               0.041447        0.030670        0.029239   \n",
              "Annualized Volatility         0.060416        0.057147        0.056985   \n",
              "Annualized Sharpe Ratio       0.686023        0.536686        0.513102   \n",
              "\n",
              "                         HDG US Equity  QAI US Equity  \n",
              "Annualized Mean               0.019442       0.016958  \n",
              "Annualized Volatility         0.059589       0.049895  \n",
              "Annualized Sharpe Ratio       0.326268       0.339873  "
            ]
          },
          "metadata": {},
          "output_type": "display_data"
        }
      ],
      "source": [
        "#based on functions from hw1\n",
        "def metrics(returns_df):\n",
        "  return_metrics = pd.DataFrame()\n",
        "\n",
        "  adjustment_factor = 12\n",
        "\n",
        "  return_metrics['Annualized Mean'] = returns_df.mean() * adjustment_factor\n",
        "  return_metrics['Annualized Volatility'] = returns_df.std() * np.sqrt(adjustment_factor)\n",
        "  return_metrics['Annualized Sharpe Ratio'] = return_metrics['Annualized Mean'] / return_metrics['Annualized Volatility']\n",
        "  return return_metrics.T\n",
        "\n",
        "display(metrics(hedge_fund_series_df_2024))"
      ]
    },
    {
      "cell_type": "markdown",
      "id": "ec8d7c08",
      "metadata": {
        "id": "ec8d7c08"
      },
      "source": [
        "## 2.\n",
        "\n",
        "For the series in the \"hedge fund series\" tab, calculate the following statistics related to tail-risk.\n",
        "* Skewness\n",
        "* Excess Kurtosis (in excess of 3)\n",
        "* VaR (.05) - the fifth quantile of historic returns\n",
        "* CVaR (.05) - the mean of the returns at or below the fifth quantile\n",
        "* Maximum drawdown - include the dates of the max/min/recovery within the max drawdown period.\n",
        "\n",
        "There is no need to annualize any of these statistics."
      ]
    },
    {
      "cell_type": "code",
      "execution_count": 19,
      "id": "f5dd1014",
      "metadata": {
        "colab": {
          "base_uri": "https://localhost:8080/",
          "height": 365
        },
        "id": "f5dd1014",
        "outputId": "5c3d5bec-fce5-4b9f-d883-3e0d5d6d0385"
      },
      "outputs": [
        {
          "data": {
            "text/html": [
              "<div>\n",
              "<style scoped>\n",
              "    .dataframe tbody tr th:only-of-type {\n",
              "        vertical-align: middle;\n",
              "    }\n",
              "\n",
              "    .dataframe tbody tr th {\n",
              "        vertical-align: top;\n",
              "    }\n",
              "\n",
              "    .dataframe thead th {\n",
              "        text-align: right;\n",
              "    }\n",
              "</style>\n",
              "<table border=\"1\" class=\"dataframe\">\n",
              "  <thead>\n",
              "    <tr style=\"text-align: right;\">\n",
              "      <th></th>\n",
              "      <th>Skewness</th>\n",
              "      <th>Excess Kurtosis</th>\n",
              "      <th>Var (0.05)</th>\n",
              "      <th>CVar (0.05)</th>\n",
              "      <th>Max Drawdown</th>\n",
              "      <th>Peak (in max. drawdown period)</th>\n",
              "      <th>Trough (in max. drawdown period)</th>\n",
              "      <th>Recovery Date</th>\n",
              "    </tr>\n",
              "  </thead>\n",
              "  <tbody>\n",
              "    <tr>\n",
              "      <th>HFRIFWI Index</th>\n",
              "      <td>-0.979063</td>\n",
              "      <td>5.955123</td>\n",
              "      <td>-0.025324</td>\n",
              "      <td>-0.037478</td>\n",
              "      <td>-0.115473</td>\n",
              "      <td>2021-10-31</td>\n",
              "      <td>2020-03-31</td>\n",
              "      <td>2021-10-31</td>\n",
              "    </tr>\n",
              "    <tr>\n",
              "      <th>MLEIFCTR Index</th>\n",
              "      <td>-0.244981</td>\n",
              "      <td>1.689648</td>\n",
              "      <td>-0.028764</td>\n",
              "      <td>-0.035857</td>\n",
              "      <td>-0.124302</td>\n",
              "      <td>2021-06-30</td>\n",
              "      <td>2022-09-30</td>\n",
              "      <td>NaT</td>\n",
              "    </tr>\n",
              "    <tr>\n",
              "      <th>MLEIFCTX Index</th>\n",
              "      <td>-0.231032</td>\n",
              "      <td>1.657903</td>\n",
              "      <td>-0.029119</td>\n",
              "      <td>-0.035816</td>\n",
              "      <td>-0.124388</td>\n",
              "      <td>2021-06-30</td>\n",
              "      <td>2022-09-30</td>\n",
              "      <td>NaT</td>\n",
              "    </tr>\n",
              "    <tr>\n",
              "      <th>HDG US Equity</th>\n",
              "      <td>-0.233880</td>\n",
              "      <td>1.799098</td>\n",
              "      <td>-0.031209</td>\n",
              "      <td>-0.037577</td>\n",
              "      <td>-0.140721</td>\n",
              "      <td>2021-06-30</td>\n",
              "      <td>2022-09-30</td>\n",
              "      <td>NaT</td>\n",
              "    </tr>\n",
              "    <tr>\n",
              "      <th>QAI US Equity</th>\n",
              "      <td>-0.461338</td>\n",
              "      <td>1.825993</td>\n",
              "      <td>-0.020593</td>\n",
              "      <td>-0.032695</td>\n",
              "      <td>-0.137712</td>\n",
              "      <td>2021-06-30</td>\n",
              "      <td>2022-09-30</td>\n",
              "      <td>NaT</td>\n",
              "    </tr>\n",
              "  </tbody>\n",
              "</table>\n",
              "</div>"
            ],
            "text/plain": [
              "                Skewness  Excess Kurtosis  Var (0.05)  CVar (0.05)  \\\n",
              "HFRIFWI Index  -0.979063         5.955123   -0.025324    -0.037478   \n",
              "MLEIFCTR Index -0.244981         1.689648   -0.028764    -0.035857   \n",
              "MLEIFCTX Index -0.231032         1.657903   -0.029119    -0.035816   \n",
              "HDG US Equity  -0.233880         1.799098   -0.031209    -0.037577   \n",
              "QAI US Equity  -0.461338         1.825993   -0.020593    -0.032695   \n",
              "\n",
              "                Max Drawdown Peak (in max. drawdown period)  \\\n",
              "HFRIFWI Index      -0.115473                     2021-10-31   \n",
              "MLEIFCTR Index     -0.124302                     2021-06-30   \n",
              "MLEIFCTX Index     -0.124388                     2021-06-30   \n",
              "HDG US Equity      -0.140721                     2021-06-30   \n",
              "QAI US Equity      -0.137712                     2021-06-30   \n",
              "\n",
              "               Trough (in max. drawdown period) Recovery Date  \n",
              "HFRIFWI Index                        2020-03-31    2021-10-31  \n",
              "MLEIFCTR Index                       2022-09-30           NaT  \n",
              "MLEIFCTX Index                       2022-09-30           NaT  \n",
              "HDG US Equity                        2022-09-30           NaT  \n",
              "QAI US Equity                        2022-09-30           NaT  "
            ]
          },
          "metadata": {},
          "output_type": "display_data"
        }
      ],
      "source": [
        "def tail_risk(returns_df, quantile):\n",
        "  summary = pd.DataFrame()\n",
        "  summary['Skewness'] = returns_df.skew() #skewness function\n",
        "  summary['Excess Kurtosis'] = returns_df.kurtosis() # excess kurtosis function\n",
        "  summary['Var (0.05)'] = returns_df.quantile(q = 0.05, axis='index') #fifth quantile\n",
        "  summary['CVar (0.05)'] = returns_df[returns_df <= returns_df.quantile(q=0.05, axis='index')].mean() #mean of the returns at or below fifth quantile\n",
        "\n",
        "  #max drawdown calculations\n",
        "  index = 1000 * (1 + returns_df).cumprod() #cumulative product of all returns given $1000\n",
        "  peaks = index.cummax() #highest points of the data at or before that date\n",
        "  drawdowns = (index - peaks) / peaks #pct. calculation for drawdowns ()\n",
        "  summary['Max Drawdown'] = drawdowns.min() #smallest on an absolute basis (more neg. the bigger drawdown)\n",
        "\n",
        "  # dates for maximum / peak of each drawdown\n",
        "  summary['Peak (in max. drawdown period)'] = peaks.idxmax()\n",
        "\n",
        "  #dates for minimum / troughs of each drawdown\n",
        "  summary['Trough (in max. drawdown period)'] = drawdowns.idxmin()\n",
        "\n",
        "  recovery_dates = dict()\n",
        "  for col in returns_df.columns:\n",
        "      peak_date = summary.loc[col, 'Peak (in max. drawdown period)']\n",
        "      trough_date = summary.loc[col, 'Trough (in max. drawdown period)']\n",
        "\n",
        "      peak_value = index[col].loc[peak_date]\n",
        "\n",
        "      index_after_trough = index[col].loc[trough_date:]\n",
        "\n",
        "      recovery_date = index_after_trough[peak_value <= index_after_trough].index.min()\n",
        "      recovery_dates[col] = recovery_date if recovery_date else pd.NaT\n",
        "\n",
        "  summary['Recovery Date'] = recovery_dates\n",
        "\n",
        "  return summary\n",
        "\n",
        "display(tail_risk(hedge_fund_series_df_2024, 0.05))"
      ]
    },
    {
      "cell_type": "markdown",
      "id": "9deb5072",
      "metadata": {
        "id": "9deb5072"
      },
      "source": [
        "## 3.\n",
        "\n",
        "For the series in the \"hedge fund series\" tab, run a regression of each against SPY (found in the \"merrill factors\" tab.) Include an intercept. Report the following regression-based statistics:\n",
        "* Market Beta\n",
        "* Treynor Ratio\n",
        "* Information ratio\n",
        "\n",
        "Annualize these three statistics as appropriate."
      ]
    },
    {
      "cell_type": "code",
      "execution_count": 20,
      "id": "13aed2ab",
      "metadata": {
        "colab": {
          "base_uri": "https://localhost:8080/",
          "height": 310
        },
        "id": "13aed2ab",
        "outputId": "d6440727-d673-4707-a40d-608ef8ce25dc"
      },
      "outputs": [
        {
          "data": {
            "text/html": [
              "<div>\n",
              "<style scoped>\n",
              "    .dataframe tbody tr th:only-of-type {\n",
              "        vertical-align: middle;\n",
              "    }\n",
              "\n",
              "    .dataframe tbody tr th {\n",
              "        vertical-align: top;\n",
              "    }\n",
              "\n",
              "    .dataframe thead th {\n",
              "        text-align: right;\n",
              "    }\n",
              "</style>\n",
              "<table border=\"1\" class=\"dataframe\">\n",
              "  <thead>\n",
              "    <tr style=\"text-align: right;\">\n",
              "      <th></th>\n",
              "      <th>SPY US Equity</th>\n",
              "      <th>USGG3M Index</th>\n",
              "      <th>EEM US Equity</th>\n",
              "      <th>EFA US Equity</th>\n",
              "      <th>EUO US Equity</th>\n",
              "      <th>IWM US Equity</th>\n",
              "    </tr>\n",
              "  </thead>\n",
              "  <tbody>\n",
              "    <tr>\n",
              "      <th>2011-08-31</th>\n",
              "      <td>-0.054976</td>\n",
              "      <td>0.000009</td>\n",
              "      <td>-0.092549</td>\n",
              "      <td>-0.087549</td>\n",
              "      <td>-0.005889</td>\n",
              "      <td>-0.088913</td>\n",
              "    </tr>\n",
              "    <tr>\n",
              "      <th>2011-09-30</th>\n",
              "      <td>-0.069449</td>\n",
              "      <td>0.000017</td>\n",
              "      <td>-0.179064</td>\n",
              "      <td>-0.108083</td>\n",
              "      <td>0.142180</td>\n",
              "      <td>-0.111541</td>\n",
              "    </tr>\n",
              "    <tr>\n",
              "      <th>2011-10-31</th>\n",
              "      <td>0.109147</td>\n",
              "      <td>-0.000013</td>\n",
              "      <td>0.162986</td>\n",
              "      <td>0.096275</td>\n",
              "      <td>-0.069502</td>\n",
              "      <td>0.151012</td>\n",
              "    </tr>\n",
              "    <tr>\n",
              "      <th>2011-11-30</th>\n",
              "      <td>-0.004064</td>\n",
              "      <td>0.000000</td>\n",
              "      <td>-0.019723</td>\n",
              "      <td>-0.021764</td>\n",
              "      <td>0.054627</td>\n",
              "      <td>-0.003783</td>\n",
              "    </tr>\n",
              "    <tr>\n",
              "      <th>2011-12-31</th>\n",
              "      <td>0.010440</td>\n",
              "      <td>0.000009</td>\n",
              "      <td>-0.043017</td>\n",
              "      <td>-0.022139</td>\n",
              "      <td>0.075581</td>\n",
              "      <td>0.005114</td>\n",
              "    </tr>\n",
              "  </tbody>\n",
              "</table>\n",
              "</div>"
            ],
            "text/plain": [
              "            SPY US Equity  USGG3M Index  EEM US Equity  EFA US Equity  \\\n",
              "2011-08-31      -0.054976      0.000009      -0.092549      -0.087549   \n",
              "2011-09-30      -0.069449      0.000017      -0.179064      -0.108083   \n",
              "2011-10-31       0.109147     -0.000013       0.162986       0.096275   \n",
              "2011-11-30      -0.004064      0.000000      -0.019723      -0.021764   \n",
              "2011-12-31       0.010440      0.000009      -0.043017      -0.022139   \n",
              "\n",
              "            EUO US Equity  IWM US Equity  \n",
              "2011-08-31      -0.005889      -0.088913  \n",
              "2011-09-30       0.142180      -0.111541  \n",
              "2011-10-31      -0.069502       0.151012  \n",
              "2011-11-30       0.054627      -0.003783  \n",
              "2011-12-31       0.075581       0.005114  "
            ]
          },
          "execution_count": 20,
          "metadata": {},
          "output_type": "execute_result"
        }
      ],
      "source": [
        "merrill_factors_df_2024 = pd.read_excel(io = \"./proshares_analysis_data_2024.xlsx\",\n",
        "                                     sheet_name='merrill_factors',\n",
        "                                     index_col=0,\n",
        "                                     parse_dates=[0])\n",
        "\n",
        "merrill_factors_df_2024.head(5)"
      ]
    },
    {
      "cell_type": "code",
      "execution_count": 21,
      "id": "d1501dd9",
      "metadata": {
        "colab": {
          "base_uri": "https://localhost:8080/",
          "height": 206
        },
        "id": "d1501dd9",
        "outputId": "4af9e2fb-4100-422f-c050-8c73ba1b769d"
      },
      "outputs": [
        {
          "data": {
            "text/html": [
              "<div>\n",
              "<style scoped>\n",
              "    .dataframe tbody tr th:only-of-type {\n",
              "        vertical-align: middle;\n",
              "    }\n",
              "\n",
              "    .dataframe tbody tr th {\n",
              "        vertical-align: top;\n",
              "    }\n",
              "\n",
              "    .dataframe thead th {\n",
              "        text-align: right;\n",
              "    }\n",
              "</style>\n",
              "<table border=\"1\" class=\"dataframe\">\n",
              "  <thead>\n",
              "    <tr style=\"text-align: right;\">\n",
              "      <th></th>\n",
              "      <th>Alpha</th>\n",
              "      <th>Beta</th>\n",
              "      <th>R-Squared</th>\n",
              "      <th>Treynor Ratio</th>\n",
              "      <th>Information Ratio</th>\n",
              "    </tr>\n",
              "  </thead>\n",
              "  <tbody>\n",
              "    <tr>\n",
              "      <th>HFRIFWI Index</th>\n",
              "      <td>-0.003559</td>\n",
              "      <td>0.348217</td>\n",
              "      <td>0.710668</td>\n",
              "      <td>0.119027</td>\n",
              "      <td>-0.109520</td>\n",
              "    </tr>\n",
              "    <tr>\n",
              "      <th>MLEIFCTR Index</th>\n",
              "      <td>-0.014549</td>\n",
              "      <td>0.349859</td>\n",
              "      <td>0.801824</td>\n",
              "      <td>0.087664</td>\n",
              "      <td>-0.571877</td>\n",
              "    </tr>\n",
              "    <tr>\n",
              "      <th>MLEIFCTX Index</th>\n",
              "      <td>-0.015806</td>\n",
              "      <td>0.348514</td>\n",
              "      <td>0.800212</td>\n",
              "      <td>0.083896</td>\n",
              "      <td>-0.620547</td>\n",
              "    </tr>\n",
              "    <tr>\n",
              "      <th>HDG US Equity</th>\n",
              "      <td>-0.027027</td>\n",
              "      <td>0.359536</td>\n",
              "      <td>0.778808</td>\n",
              "      <td>0.054075</td>\n",
              "      <td>-0.964387</td>\n",
              "    </tr>\n",
              "    <tr>\n",
              "      <th>QAI US Equity</th>\n",
              "      <td>-0.021053</td>\n",
              "      <td>0.294096</td>\n",
              "      <td>0.743252</td>\n",
              "      <td>0.057662</td>\n",
              "      <td>-0.832728</td>\n",
              "    </tr>\n",
              "  </tbody>\n",
              "</table>\n",
              "</div>"
            ],
            "text/plain": [
              "                   Alpha      Beta  R-Squared  Treynor Ratio  \\\n",
              "HFRIFWI Index  -0.003559  0.348217   0.710668       0.119027   \n",
              "MLEIFCTR Index -0.014549  0.349859   0.801824       0.087664   \n",
              "MLEIFCTX Index -0.015806  0.348514   0.800212       0.083896   \n",
              "HDG US Equity  -0.027027  0.359536   0.778808       0.054075   \n",
              "QAI US Equity  -0.021053  0.294096   0.743252       0.057662   \n",
              "\n",
              "                Information Ratio  \n",
              "HFRIFWI Index           -0.109520  \n",
              "MLEIFCTR Index          -0.571877  \n",
              "MLEIFCTX Index          -0.620547  \n",
              "HDG US Equity           -0.964387  \n",
              "QAI US Equity           -0.832728  "
            ]
          },
          "execution_count": 21,
          "metadata": {},
          "output_type": "execute_result"
        }
      ],
      "source": [
        "def univariate_regression(funds, explanatory):\n",
        "    \"\"\"\n",
        "    Function is designed to calculate the univariate regression of y against X.\n",
        "    Can also do downside beta (when market < 0) and upside beta (when market > 0)\n",
        "\n",
        "    Returns:\n",
        "        DataFrame: Summary of results\n",
        "    \"\"\"\n",
        "    reg_results = []\n",
        "    for fund in funds.columns:\n",
        "      response = funds[fund]\n",
        "        # set-up of Ordinary Least Sqaured Regression (drop missing values & add constant for regression)\n",
        "      results = sm.OLS(response, sm.add_constant(explanatory), missing = 'drop').fit()\n",
        "\n",
        "      # constant and slope of explanatory variable (index 0 and 1 respectively)\n",
        "      parameters = results.params\n",
        "\n",
        "      intercept = parameters.iloc[0] # returns in excess of the market\n",
        "      beta = parameters.iloc[1]\n",
        "\n",
        "      summary = dict()\n",
        "\n",
        "      summary['Alpha'] = intercept * 12\n",
        "      summary['Beta'] = beta\n",
        "\n",
        "      summary['R-Squared'] = results.rsquared\n",
        "\n",
        "      # normalize returns by the amount of market risk being taken on\n",
        "      summary['Treynor Ratio'] = (response.mean() / beta) * 12 # annualize the ratio\n",
        "\n",
        "      residuals = results.resid\n",
        "\n",
        "      #returns in excess of the market penalized by the variance of the regression\n",
        "      summary['Information Ratio'] = (intercept / residuals.std()) * np.sqrt(12) #annualize the ratio\n",
        "\n",
        "      reg_results.append(pd.DataFrame(summary, index = [response.name]))\n",
        "    return pd.concat(reg_results)\n",
        "\n",
        "univariate_regression(hedge_fund_series_df_2024, merrill_factors_df_2024['SPY US Equity'])\n"
      ]
    },
    {
      "cell_type": "markdown",
      "id": "9dd139ed",
      "metadata": {
        "id": "9dd139ed"
      },
      "source": [
        "## 4.\n",
        "\n",
        "Discuss the previous statistics, and what they tell us about...\n",
        "\n",
        "* the differences between SPY and the hedge-fund series?\n",
        "* which performs better between HDG and QAI.\n",
        "* whether HDG and the ML series capture the most notable properties of HFRI."
      ]
    },
    {
      "cell_type": "code",
      "execution_count": 22,
      "id": "vG_1DTrhwLT0",
      "metadata": {
        "colab": {
          "base_uri": "https://localhost:8080/",
          "height": 551
        },
        "id": "vG_1DTrhwLT0",
        "outputId": "9dba2a43-de0a-4b09-bf8a-79ba27a0044f"
      },
      "outputs": [
        {
          "data": {
            "text/html": [
              "<div>\n",
              "<style scoped>\n",
              "    .dataframe tbody tr th:only-of-type {\n",
              "        vertical-align: middle;\n",
              "    }\n",
              "\n",
              "    .dataframe tbody tr th {\n",
              "        vertical-align: top;\n",
              "    }\n",
              "\n",
              "    .dataframe thead th {\n",
              "        text-align: right;\n",
              "    }\n",
              "</style>\n",
              "<table border=\"1\" class=\"dataframe\">\n",
              "  <thead>\n",
              "    <tr style=\"text-align: right;\">\n",
              "      <th></th>\n",
              "      <th>HDG US Equity</th>\n",
              "      <th>QAI US Equity</th>\n",
              "    </tr>\n",
              "  </thead>\n",
              "  <tbody>\n",
              "    <tr>\n",
              "      <th>Annualized Mean</th>\n",
              "      <td>0.019442</td>\n",
              "      <td>0.016958</td>\n",
              "    </tr>\n",
              "    <tr>\n",
              "      <th>Annualized Volatility</th>\n",
              "      <td>0.059589</td>\n",
              "      <td>0.049895</td>\n",
              "    </tr>\n",
              "    <tr>\n",
              "      <th>Annualized Sharpe Ratio</th>\n",
              "      <td>0.326268</td>\n",
              "      <td>0.339873</td>\n",
              "    </tr>\n",
              "    <tr>\n",
              "      <th>Skewness</th>\n",
              "      <td>-0.23388</td>\n",
              "      <td>-0.461338</td>\n",
              "    </tr>\n",
              "    <tr>\n",
              "      <th>Excess Kurtosis</th>\n",
              "      <td>1.799098</td>\n",
              "      <td>1.825993</td>\n",
              "    </tr>\n",
              "    <tr>\n",
              "      <th>Var (0.05)</th>\n",
              "      <td>-0.031209</td>\n",
              "      <td>-0.020593</td>\n",
              "    </tr>\n",
              "    <tr>\n",
              "      <th>CVar (0.05)</th>\n",
              "      <td>-0.037577</td>\n",
              "      <td>-0.032695</td>\n",
              "    </tr>\n",
              "    <tr>\n",
              "      <th>Max Drawdown</th>\n",
              "      <td>-0.140721</td>\n",
              "      <td>-0.137712</td>\n",
              "    </tr>\n",
              "    <tr>\n",
              "      <th>Peak (in max. drawdown period)</th>\n",
              "      <td>2021-06-30 00:00:00</td>\n",
              "      <td>2021-06-30 00:00:00</td>\n",
              "    </tr>\n",
              "    <tr>\n",
              "      <th>Trough (in max. drawdown period)</th>\n",
              "      <td>2022-09-30 00:00:00</td>\n",
              "      <td>2022-09-30 00:00:00</td>\n",
              "    </tr>\n",
              "    <tr>\n",
              "      <th>Recovery Date</th>\n",
              "      <td>NaT</td>\n",
              "      <td>NaT</td>\n",
              "    </tr>\n",
              "    <tr>\n",
              "      <th>Alpha</th>\n",
              "      <td>-0.027027</td>\n",
              "      <td>-0.021053</td>\n",
              "    </tr>\n",
              "    <tr>\n",
              "      <th>Beta</th>\n",
              "      <td>0.359536</td>\n",
              "      <td>0.294096</td>\n",
              "    </tr>\n",
              "    <tr>\n",
              "      <th>R-Squared</th>\n",
              "      <td>0.778808</td>\n",
              "      <td>0.743252</td>\n",
              "    </tr>\n",
              "    <tr>\n",
              "      <th>Treynor Ratio</th>\n",
              "      <td>0.054075</td>\n",
              "      <td>0.057662</td>\n",
              "    </tr>\n",
              "    <tr>\n",
              "      <th>Information Ratio</th>\n",
              "      <td>-0.964387</td>\n",
              "      <td>-0.832728</td>\n",
              "    </tr>\n",
              "  </tbody>\n",
              "</table>\n",
              "</div>"
            ],
            "text/plain": [
              "                                        HDG US Equity        QAI US Equity\n",
              "Annualized Mean                              0.019442             0.016958\n",
              "Annualized Volatility                        0.059589             0.049895\n",
              "Annualized Sharpe Ratio                      0.326268             0.339873\n",
              "Skewness                                     -0.23388            -0.461338\n",
              "Excess Kurtosis                              1.799098             1.825993\n",
              "Var (0.05)                                  -0.031209            -0.020593\n",
              "CVar (0.05)                                 -0.037577            -0.032695\n",
              "Max Drawdown                                -0.140721            -0.137712\n",
              "Peak (in max. drawdown period)    2021-06-30 00:00:00  2021-06-30 00:00:00\n",
              "Trough (in max. drawdown period)  2022-09-30 00:00:00  2022-09-30 00:00:00\n",
              "Recovery Date                                     NaT                  NaT\n",
              "Alpha                                       -0.027027            -0.021053\n",
              "Beta                                         0.359536             0.294096\n",
              "R-Squared                                    0.778808             0.743252\n",
              "Treynor Ratio                                0.054075             0.057662\n",
              "Information Ratio                           -0.964387            -0.832728"
            ]
          },
          "execution_count": 22,
          "metadata": {},
          "output_type": "execute_result"
        }
      ],
      "source": [
        "pd.concat([metrics(hedge_fund_series_df_2024[['HDG US Equity', 'QAI US Equity']]),\n",
        "           tail_risk(hedge_fund_series_df_2024[['HDG US Equity', 'QAI US Equity']], 0.05).T,\n",
        "           univariate_regression(hedge_fund_series_df_2024[['HDG US Equity', 'QAI US Equity']], merrill_factors_df_2024['SPY US Equity']).T])"
      ]
    },
    {
      "cell_type": "code",
      "execution_count": 23,
      "id": "M8yglxDErkDU",
      "metadata": {
        "colab": {
          "base_uri": "https://localhost:8080/",
          "height": 297
        },
        "id": "M8yglxDErkDU",
        "outputId": "d3819580-ce38-4a79-9179-bb2a2743b3fd"
      },
      "outputs": [
        {
          "name": "stdout",
          "output_type": "stream",
          "text": [
            "MLEIFCTR Index regression:\n"
          ]
        },
        {
          "data": {
            "text/html": [
              "<div>\n",
              "<style scoped>\n",
              "    .dataframe tbody tr th:only-of-type {\n",
              "        vertical-align: middle;\n",
              "    }\n",
              "\n",
              "    .dataframe tbody tr th {\n",
              "        vertical-align: top;\n",
              "    }\n",
              "\n",
              "    .dataframe thead th {\n",
              "        text-align: right;\n",
              "    }\n",
              "</style>\n",
              "<table border=\"1\" class=\"dataframe\">\n",
              "  <thead>\n",
              "    <tr style=\"text-align: right;\">\n",
              "      <th></th>\n",
              "      <th>Alpha</th>\n",
              "      <th>Beta</th>\n",
              "      <th>R-Squared</th>\n",
              "      <th>Treynor Ratio</th>\n",
              "      <th>Information Ratio</th>\n",
              "    </tr>\n",
              "  </thead>\n",
              "  <tbody>\n",
              "    <tr>\n",
              "      <th>HFRIFWI Index</th>\n",
              "      <td>0.012403</td>\n",
              "      <td>0.946981</td>\n",
              "      <td>0.802341</td>\n",
              "      <td>0.043768</td>\n",
              "      <td>0.461765</td>\n",
              "    </tr>\n",
              "  </tbody>\n",
              "</table>\n",
              "</div>"
            ],
            "text/plain": [
              "                  Alpha      Beta  R-Squared  Treynor Ratio  Information Ratio\n",
              "HFRIFWI Index  0.012403  0.946981   0.802341       0.043768           0.461765"
            ]
          },
          "metadata": {},
          "output_type": "display_data"
        },
        {
          "name": "stdout",
          "output_type": "stream",
          "text": [
            "\n",
            "MLEIFCTX Index regression:\n"
          ]
        },
        {
          "data": {
            "text/html": [
              "<div>\n",
              "<style scoped>\n",
              "    .dataframe tbody tr th:only-of-type {\n",
              "        vertical-align: middle;\n",
              "    }\n",
              "\n",
              "    .dataframe tbody tr th {\n",
              "        vertical-align: top;\n",
              "    }\n",
              "\n",
              "    .dataframe thead th {\n",
              "        text-align: right;\n",
              "    }\n",
              "</style>\n",
              "<table border=\"1\" class=\"dataframe\">\n",
              "  <thead>\n",
              "    <tr style=\"text-align: right;\">\n",
              "      <th></th>\n",
              "      <th>Alpha</th>\n",
              "      <th>Beta</th>\n",
              "      <th>R-Squared</th>\n",
              "      <th>Treynor Ratio</th>\n",
              "      <th>Information Ratio</th>\n",
              "    </tr>\n",
              "  </thead>\n",
              "  <tbody>\n",
              "    <tr>\n",
              "      <th>HFRIFWI Index</th>\n",
              "      <td>0.0137</td>\n",
              "      <td>0.94898</td>\n",
              "      <td>0.801157</td>\n",
              "      <td>0.043675</td>\n",
              "      <td>0.508522</td>\n",
              "    </tr>\n",
              "  </tbody>\n",
              "</table>\n",
              "</div>"
            ],
            "text/plain": [
              "                Alpha     Beta  R-Squared  Treynor Ratio  Information Ratio\n",
              "HFRIFWI Index  0.0137  0.94898   0.801157       0.043675           0.508522"
            ]
          },
          "metadata": {},
          "output_type": "display_data"
        },
        {
          "name": "stdout",
          "output_type": "stream",
          "text": [
            "\n",
            "HDG US Equity regression:\n"
          ]
        },
        {
          "data": {
            "text/html": [
              "<div>\n",
              "<style scoped>\n",
              "    .dataframe tbody tr th:only-of-type {\n",
              "        vertical-align: middle;\n",
              "    }\n",
              "\n",
              "    .dataframe tbody tr th {\n",
              "        vertical-align: top;\n",
              "    }\n",
              "\n",
              "    .dataframe thead th {\n",
              "        text-align: right;\n",
              "    }\n",
              "</style>\n",
              "<table border=\"1\" class=\"dataframe\">\n",
              "  <thead>\n",
              "    <tr style=\"text-align: right;\">\n",
              "      <th></th>\n",
              "      <th>Alpha</th>\n",
              "      <th>Beta</th>\n",
              "      <th>R-Squared</th>\n",
              "      <th>Treynor Ratio</th>\n",
              "      <th>Information Ratio</th>\n",
              "    </tr>\n",
              "  </thead>\n",
              "  <tbody>\n",
              "    <tr>\n",
              "      <th>HFRIFWI Index</th>\n",
              "      <td>0.024008</td>\n",
              "      <td>0.896975</td>\n",
              "      <td>0.782678</td>\n",
              "      <td>0.046208</td>\n",
              "      <td>0.852416</td>\n",
              "    </tr>\n",
              "  </tbody>\n",
              "</table>\n",
              "</div>"
            ],
            "text/plain": [
              "                  Alpha      Beta  R-Squared  Treynor Ratio  Information Ratio\n",
              "HFRIFWI Index  0.024008  0.896975   0.782678       0.046208           0.852416"
            ]
          },
          "metadata": {},
          "output_type": "display_data"
        }
      ],
      "source": [
        "print('MLEIFCTR Index regression:')\n",
        "display(univariate_regression(hedge_fund_series_df_2024[['HFRIFWI Index']], hedge_fund_series_df_2024['MLEIFCTR Index']))\n",
        "print()\n",
        "print('MLEIFCTX Index regression:')\n",
        "display(univariate_regression(hedge_fund_series_df_2024[['HFRIFWI Index']], hedge_fund_series_df_2024['MLEIFCTX Index']))\n",
        "print()\n",
        "print('HDG US Equity regression:')\n",
        "display(univariate_regression(hedge_fund_series_df_2024[['HFRIFWI Index']], hedge_fund_series_df_2024['HDG US Equity']))"
      ]
    },
    {
      "cell_type": "markdown",
      "id": "jSawgXD_jlqn",
      "metadata": {
        "id": "jSawgXD_jlqn"
      },
      "source": [
        "1. Overall, all of the funds had a positive beta (from 0.29 to 0.35). This means that on a relative basis, the funds were mildly sensitive to movements in the overall market and generally have similar sensitivities. Additionally, the ML series had two of the highest Treynor ratios. In other words, given the amount of market risk being taken, the MLEIFCTR index and MLEIFCTX index yielded the highest relative return. On the other hand, QAI and HDG had the next two lowest Treynor ratios. Lastly, all four of the funds had negative information ratios. Firstly, this means that all four funds' returns in excess of the market (their alphas) were negative (i.e. their returns were lower than the market return). Secondly, penalizing this excess return to the their volatility leads to HDG having a nearly -93.3% info ratio followed by QAI at -72.2%. The ML series have milder info ratios as -52.7% and -58.4%. This means that while HDG may have a large negative excess return, on a relative basis its vol. is lowest comapred to the other funds with respect to their individual excess returns.\n",
        "2. 'Better' is a very ambiguous term. Based on the data above (metrics, tail_risk, and univariate regression), QAI does have the lowest beta, and as a result, is least sensitive to market movements than the other funds. In the sense that better performance means the least amount of systematic risk, then yes, QAI performs better. When considering nominal returns as the sole indicator of performance than HDG and QAI are nearly identical at 2.3%. However, when considering excess returns to the market (alpha), QAI has a larger (less negative) alpha than HDG. Therefore, if better performance means net returns of both of a fund in excess of the market, than QAI is the better choice.\n",
        "3. Based on the above analytics, it does seem like HDG and the ML series do capture the most notable properites of HRFI. In all cases the information ratios are positive and above 0.46. Additionally, their betas are all atleast 0.89 which indicates a very high sensitivity to HRFI. Lastly, the correlations are all very high of atleast 0.78 such that atleast 78% of all the variation in the three indices can be explained by HRFI."
      ]
    },
    {
      "cell_type": "markdown",
      "id": "efc199e0",
      "metadata": {
        "id": "efc199e0"
      },
      "source": [
        "## 5.\n",
        "# REDO WITH PROPER DATA\n",
        "\n",
        "Report the correlation matrix for these assets.\n",
        "* Show the correlations as a heat map.\n",
        "* Which series have the highest and lowest correlations?"
      ]
    },
    {
      "cell_type": "code",
      "execution_count": 24,
      "id": "6f5806a6",
      "metadata": {
        "colab": {
          "base_uri": "https://localhost:8080/",
          "height": 550
        },
        "id": "6f5806a6",
        "outputId": "e5acf803-1836-4da9-83c0-2eb2cb1e1403"
      },
      "outputs": [
        {
          "data": {
            "text/plain": [
              "<Axes: >"
            ]
          },
          "execution_count": 24,
          "metadata": {},
          "output_type": "execute_result"
        },
        {
          "data": {
            "image/png": "[encoded data removed]",
            "text/plain": [
              "<Figure size 640x480 with 2 Axes>"
            ]
          },
          "metadata": {},
          "output_type": "display_data"
        }
      ],
      "source": [
        "\n",
        "\n",
        "corr_matrix = pd.concat([hedge_fund_series_df_2024,  merrill_factors_df_2024], axis=1).corr()\n",
        "\n",
        "sns.heatmap(corr_matrix,\n",
        "            cmap=\"coolwarm\",\n",
        "            annot=True,\n",
        "            vmin = -1,\n",
        "            vmax = 1,\n",
        "            linewidths=0.7,\n",
        "            fmt = \".2f\",\n",
        "            )\n"
      ]
    },
    {
      "cell_type": "markdown",
      "id": "I24WrlZEMi0e",
      "metadata": {
        "id": "I24WrlZEMi0e"
      },
      "source": [
        "Based on the above heat map, the following indices / funds have very high (0.71 to 1) correlation with each other: HRIFWI index, MLEIFCTR index, MLEIFCTX index, HDG US Equity, QAI US Equity, SPY US Equity, EEM US Equity, EFA US Equity, IWM US Equity. The USGG3M index seems to be the only asset with practically no correlation vs. the rest of the assets. EUO US Equity seems to be the only asset with negative (-0.31 to -0.61) correlation vs. the rest of the assets."
      ]
    },
    {
      "cell_type": "markdown",
      "id": "f79554a0",
      "metadata": {
        "id": "f79554a0"
      },
      "source": [
        "## 6.\n",
        "\n",
        "# REDO WITH PROPER DATA\n",
        "\n",
        "Replicate HFRI with the six factors listed on the \"merrill factors\" tab. Include a constant, and run the unrestricted regression,\n",
        "\n",
        "$\\newcommand{\\hfri}{\\text{hfri}}$\n",
        "$\\newcommand{\\merr}{\\text{merr}}$\n",
        "\n",
        "$$\\begin{align}\n",
        "r^{\\hfri}_{t} &= \\alpha^{\\merr} + x_{t}^{\\merr}\\beta^{\\merr} + \\epsilon_{t}^{\\merr}\\\\[5pt]\n",
        "\\hat{r}^{\\hfri}_{t} &= \\hat{\\alpha}^{\\merr} + x_{t}^{\\merr}\\hat{\\beta}^{\\merr}\n",
        "\\end{align}$$\n",
        "\n",
        "Note that the second equation is just our notation for the fitted replication.\n",
        "\n",
        "a. Report the intercept and betas.\n",
        "\n",
        "b. Are the betas realistic position sizes, or do they require huge long-short positions?\n",
        "\n",
        "c. Report the R-squared.\n",
        "\n",
        "d. Report the volatility of $\\epsilon^{\\merr}$, the tracking error."
      ]
    },
    {
      "cell_type": "code",
      "execution_count": 25,
      "id": "enz3moreMA8v",
      "metadata": {
        "colab": {
          "base_uri": "https://localhost:8080/",
          "height": 887
        },
        "id": "enz3moreMA8v",
        "outputId": "9a1b6ca9-888d-491a-b616-e11c11dadf81"
      },
      "outputs": [
        {
          "name": "stdout",
          "output_type": "stream",
          "text": [
            "                            OLS Regression Results                            \n",
            "==============================================================================\n",
            "Dep. Variable:          HFRIFWI Index   R-squared:                       0.836\n",
            "Model:                            OLS   Adj. R-squared:                  0.829\n",
            "Method:                 Least Squares   F-statistic:                     114.7\n",
            "Date:                Sun, 06 Jul 2025   Prob (F-statistic):           1.64e-50\n",
            "Time:                        16:16:15   Log-Likelihood:                 502.35\n",
            "No. Observations:                 142   AIC:                            -990.7\n",
            "Df Residuals:                     135   BIC:                            -970.0\n",
            "Df Model:                           6                                         \n",
            "Covariance Type:            nonrobust                                         \n",
            "=================================================================================\n",
            "                    coef    std err          t      P>|t|      [0.025      0.975]\n",
            "---------------------------------------------------------------------------------\n",
            "const             0.0015      0.001      1.905      0.059   -5.68e-05       0.003\n",
            "SPY US Equity     0.0300      0.038      0.787      0.432      -0.045       0.105\n",
            "USGG3M Index     -0.3709      0.592     -0.626      0.532      -1.542       0.801\n",
            "EEM US Equity     0.0791      0.022      3.617      0.000       0.036       0.122\n",
            "EFA US Equity     0.0842      0.037      2.286      0.024       0.011       0.157\n",
            "EUO US Equity     0.0231      0.018      1.295      0.197      -0.012       0.058\n",
            "IWM US Equity     0.1533      0.023      6.526      0.000       0.107       0.200\n",
            "==============================================================================\n",
            "Omnibus:                       21.542   Durbin-Watson:                   1.988\n",
            "Prob(Omnibus):                  0.000   Jarque-Bera (JB):               67.263\n",
            "Skew:                          -0.474   Prob(JB):                     2.48e-15\n",
            "Kurtosis:                       6.236   Cond. No.                         978.\n",
            "==============================================================================\n",
            "\n",
            "Notes:\n",
            "[1] Standard Errors assume that the covariance matrix of the errors is correctly specified.\n"
          ]
        },
        {
          "data": {
            "text/html": [
              "<div>\n",
              "<style scoped>\n",
              "    .dataframe tbody tr th:only-of-type {\n",
              "        vertical-align: middle;\n",
              "    }\n",
              "\n",
              "    .dataframe tbody tr th {\n",
              "        vertical-align: top;\n",
              "    }\n",
              "\n",
              "    .dataframe thead th {\n",
              "        text-align: right;\n",
              "    }\n",
              "</style>\n",
              "<table border=\"1\" class=\"dataframe\">\n",
              "  <thead>\n",
              "    <tr style=\"text-align: right;\">\n",
              "      <th></th>\n",
              "      <th>HFRIFWI Index</th>\n",
              "    </tr>\n",
              "  </thead>\n",
              "  <tbody>\n",
              "    <tr>\n",
              "      <th>Intercept</th>\n",
              "      <td>0.017794</td>\n",
              "    </tr>\n",
              "    <tr>\n",
              "      <th>R-Squared</th>\n",
              "      <td>0.836058</td>\n",
              "    </tr>\n",
              "    <tr>\n",
              "      <th>Tracking Error</th>\n",
              "      <td>0.024462</td>\n",
              "    </tr>\n",
              "    <tr>\n",
              "      <th>SPY US Equity Beta</th>\n",
              "      <td>0.029963</td>\n",
              "    </tr>\n",
              "    <tr>\n",
              "      <th>USGG3M Index Beta</th>\n",
              "      <td>-0.370915</td>\n",
              "    </tr>\n",
              "    <tr>\n",
              "      <th>EEM US Equity Beta</th>\n",
              "      <td>0.079118</td>\n",
              "    </tr>\n",
              "    <tr>\n",
              "      <th>EFA US Equity Beta</th>\n",
              "      <td>0.084161</td>\n",
              "    </tr>\n",
              "    <tr>\n",
              "      <th>EUO US Equity Beta</th>\n",
              "      <td>0.023106</td>\n",
              "    </tr>\n",
              "    <tr>\n",
              "      <th>IWM US Equity Beta</th>\n",
              "      <td>0.153294</td>\n",
              "    </tr>\n",
              "  </tbody>\n",
              "</table>\n",
              "</div>"
            ],
            "text/plain": [
              "                    HFRIFWI Index\n",
              "Intercept                0.017794\n",
              "R-Squared                0.836058\n",
              "Tracking Error           0.024462\n",
              "SPY US Equity Beta       0.029963\n",
              "USGG3M Index Beta       -0.370915\n",
              "EEM US Equity Beta       0.079118\n",
              "EFA US Equity Beta       0.084161\n",
              "EUO US Equity Beta       0.023106\n",
              "IWM US Equity Beta       0.153294"
            ]
          },
          "execution_count": 25,
          "metadata": {},
          "output_type": "execute_result"
        }
      ],
      "source": [
        "def multivariate_regression(fund, explanatory):\n",
        "  \"\"\"\n",
        "  Function is designed to calculate the multivariate regression of y against X.\n",
        "  Can also do downside beta (when market < 0) and upside beta (when market > 0)\n",
        "\n",
        "  Args:\n",
        "    funds: a dataframe with the target variables\n",
        "    explanatory: a dataframe with the explanatory variables\n",
        "  Returns:\n",
        "      DataFrame: Summary of results\n",
        "  \"\"\"\n",
        "  results = sm.OLS(fund, sm.add_constant(explanatory), missing = 'drop').fit()\n",
        "\n",
        "  # constant and slope of explanatory variable (index 0 and 1 respectively)\n",
        "  parameters = results.params\n",
        "\n",
        "  intercept = parameters.iloc[0] # returns in excess of the market (annualized)\n",
        "  betas = parameters.iloc[1:] #exclude first var. as it's the intercept\n",
        "\n",
        "  summary = dict()\n",
        "  summary['Intercept'] = intercept * 12\n",
        "\n",
        "  summary['R-Squared'] = results.rsquared\n",
        "\n",
        "  residuals = results.resid\n",
        "  summary['Tracking Error'] = residuals.std() * np.sqrt(12)\n",
        "\n",
        "  explanatory_vars = explanatory.columns\n",
        "\n",
        "  for i, col in enumerate(explanatory_vars):\n",
        "      summary[f\"{col} Beta\"] = betas.iloc[i]\n",
        "\n",
        "  print(results.summary())\n",
        "\n",
        "  return pd.DataFrame(summary, index = [fund.name]).T\n",
        "\n",
        "multivariate_regression(hedge_fund_series_df_2024['HFRIFWI Index'], merrill_factors_df_2024)"
      ]
    },
    {
      "cell_type": "markdown",
      "id": "DEkUmcwvb8Zv",
      "metadata": {
        "id": "DEkUmcwvb8Zv"
      },
      "source": [
        "The intercept (alpha) in this multivariate regression model is 0.017794.\n",
        "\n",
        "The R-Squared in this multivariate regression model is 0.836058 which means that about 83.6% of the variation of the response variable HFRI can be explained by the six factors in the Merrill Multi Factor model.\n",
        "\n",
        "The tracking error is 2.4462% which means that HFRI's returns deviate from the six factor model's returns by 2.4462%.\n",
        "\n",
        "The betas are quite reasonable. If we wanted to develop a portfolio that tracked the factor betas, the relatvie exposures to each of the factors is not too far fetched. Unlike the example in HW1 where weights of 1000% and -1300% were placed on certain assets, the betas do range relatively close here (-0.37 to 0.15)."
      ]
    },
    {
      "cell_type": "markdown",
      "id": "9760f909",
      "metadata": {
        "id": "9760f909"
      },
      "source": [
        "## 7.\n",
        "\n",
        "Let's examine the replication out-of-sample (OOS).\n",
        "\n",
        "Starting with $t = 61$ month of the sample, do the following:\n",
        "\n",
        "* Use the previous 60 months of data to estimate the regression equation.\n",
        "This gives time-t estimates of the regression parameters, $\\tilde{\\alpha}^{\\merr}_{t}$ and $\\tilde{\\beta}^{\\merr}_{t}$.\n",
        "\n",
        "* Use the estimated regression parameters, along with the time-t regressor values, $x^{\\merr}_{t}$, calculate the time-t replication value that is, with respect to the regression estimate, built \"out-of-sample\" (OOS).\n",
        "\n",
        "$$\\hat{r}^{\\hfri}_{t} \\equiv \\tilde{\\alpha}^{\\merr} + (x_{t}^{\\merr})'\\tilde{\\beta}^{\\merr}$$\n",
        "\n",
        "* Step forward to $t = 62$, and now use $t = 2$ through $t = 61$ for the estimation. Re-run the steps above, and continue this process throughout the data series. Thus, we are running a rolling, 60-month regression for each point-in-time.\n",
        "\n",
        "How well does the out-of-sample replication perform with respect to the target?"
      ]
    },
    {
      "cell_type": "code",
      "execution_count": 26,
      "id": "fxCeFvhoJeJG",
      "metadata": {
        "colab": {
          "base_uri": "https://localhost:8080/",
          "height": 507
        },
        "id": "fxCeFvhoJeJG",
        "outputId": "dbe6ec87-a600-4d70-e719-2d2bced011eb"
      },
      "outputs": [
        {
          "name": "stdout",
          "output_type": "stream",
          "text": [
            "OOS R-Squared: 80.87%\n"
          ]
        },
        {
          "data": {
            "image/png": "[encoded data removed]",
            "text/plain": [
              "<Figure size 1200x800 with 1 Axes>"
            ]
          },
          "metadata": {},
          "output_type": "display_data"
        }
      ],
      "source": [
        "from collections import defaultdict\n",
        "import matplotlib.pyplot as plt\n",
        "\n",
        "def oos_rolling_regression(fund, explanatory):\n",
        "  \"\"\"\n",
        "  This function is designed to calculate the out-of-sample rolling regression of fund against explanatory (factors).\n",
        "\n",
        "  Args:\n",
        "    fund: a dataframe with the target variables\n",
        "    explanatory: a dataframe with the explanatory variables (factors)\n",
        "\n",
        "  Returns:\n",
        "      DataFrame: Summary of results\n",
        "  \"\"\"\n",
        "  summary = defaultdict(list)\n",
        "  for t in range(60, len(fund)):\n",
        "    #select the in-sample factors and HFRI returns\n",
        "    past_factors = explanatory.iloc[t - 60:t].copy()\n",
        "    past_fund_rets = fund.iloc[t - 60:t].copy()\n",
        "\n",
        "    # actual rets of fund at time t\n",
        "    oos_y = fund.iloc[t].copy()\n",
        "\n",
        "    #actual factors at time t\n",
        "    oos_x = explanatory.iloc[t].copy()\n",
        "\n",
        "    # run regression of past fund performance against past factor performance\n",
        "    model = sm.OLS(past_fund_rets, sm.add_constant(past_factors), missing = 'drop').fit()\n",
        "    intercept = model.params.iloc[0]\n",
        "    betas = model.params.iloc[1:]\n",
        "\n",
        "    #create a dictionry of key, value pairs representing parameter and coefficient pairs\n",
        "    for idx, parameter in enumerate(model.params.index):\n",
        "      summary[parameter].append(model.params.iloc[idx])\n",
        "\n",
        "\n",
        "\n",
        "    prediction = intercept + betas @ oos_x\n",
        "\n",
        "    summary['Predicted Return(OOS)'].append(prediction)\n",
        "    summary['Actual Return'].append(oos_y)\n",
        "\n",
        "  summary = pd.DataFrame(summary, index = fund.index[60:])\n",
        "\n",
        "  return summary\n",
        "\n",
        "# the rolling regression for this problem\n",
        "rolling_regr = oos_rolling_regression(hedge_fund_series_df_2024['HFRIFWI Index'], merrill_factors_df_2024)\n",
        "\n",
        "#r-squared calculation given the built in correlation function in python\n",
        "r_squared = rolling_regr['Predicted Return(OOS)'].corr(rolling_regr['Actual Return'])**2\n",
        "\n",
        "\n",
        "#displaying statistics\n",
        "print(f'OOS R-Squared: {r_squared:.2%}')\n",
        "\n",
        "fig, ax = plt.subplots(figsize=(12, 8))\n",
        "\n",
        "ax.plot(rolling_regr['Predicted Return(OOS)'], label = 'Predicted Return(OOS)', color = 'blue')\n",
        "ax.plot(rolling_regr['Actual Return'], label = 'Actual Return', color = 'red')\n",
        "ax.grid(True)\n",
        "ax.legend();\n"
      ]
    },
    {
      "cell_type": "markdown",
      "id": "f7433d2f",
      "metadata": {
        "id": "f7433d2f"
      },
      "source": [
        "***"
      ]
    },
    {
      "cell_type": "markdown",
      "id": "4f5883f2",
      "metadata": {
        "id": "4f5883f2"
      },
      "source": [
        "# 3.  Extensions\n",
        "<i>**This section is not graded, and you do not need to submit it.** Still, we may discuss it in class some extensions in class.\n",
        "\n",
        "For those looking for a challenge, try a few of these."
      ]
    },
    {
      "cell_type": "markdown",
      "id": "2c042de1",
      "metadata": {
        "id": "2c042de1"
      },
      "source": [
        "## 1.\n",
        "\n",
        "Merrill constrains the weights of each asset in its replication regression of HFRI. Try constraining your weights by re-doing 2.6.\n",
        "\n",
        "* Use Non-Negative Least Squares (NNLS) instead of OLS.\n",
        "* Go further by using a Generalized Linear Model to put separate interval constraints on each beta, rather than simply constraining them to be non-negative.\n",
        "\n",
        "#### Hints\n",
        "* Try using LinearRegression in scikit-learn with the parameter `positive=True`.\n",
        "* Try using GLM in statsmodels."
      ]
    },
    {
      "cell_type": "markdown",
      "id": "02ee228d",
      "metadata": {
        "id": "02ee228d"
      },
      "source": [
        "## 2.\n",
        "\n",
        "Let's decompose a few other targets to see if they behave as their name suggests.\n",
        "\n",
        "* Regress HEFA on the same style factors used to decompose HFRI. Does HEFA appear to be a currency-hedged version of EFA?\n",
        "\n",
        "* Decompose TRVCI with the same style factors used to decompose HFRI. The TRVCI Index tracks venture capital funds--in terms of our styles, what best describes venture capital?\n",
        "\n",
        "* TAIL is an ETF that tracks SPY, but that also buys put options to protect against market downturns. Calculate the statistics in questions 2.1-2.3 for TAIL. Does it seem to behave as indicated by this description? That is, does it have high correlation to SPY while delivering lower tail risk?"
      ]
    },
    {
      "cell_type": "markdown",
      "id": "9c20b444",
      "metadata": {
        "id": "9c20b444"
      },
      "source": [
        "## 3.\n",
        "\n",
        "The ProShares case introduces Levered ETFs. ProShares made much of its name originally through levered, or \"geared\" ETFs.\n",
        "\n",
        "Explain conceptually why Levered ETFs may track their index well for a given day but diverge over time. How is this exacerbated in volatile periods like 2008?"
      ]
    },
    {
      "cell_type": "markdown",
      "id": "3313d36c",
      "metadata": {
        "id": "3313d36c"
      },
      "source": [
        "## 4.\n",
        "\n",
        "Analyze SPXU and UPRO relative to SPY.\n",
        "- SPXU is ProShares -3x SPX ETF.\n",
        "- UPRO is ProShres +3x SPX ETF.\n",
        "\n",
        "Questions:\n",
        "* Analyze them with the statistics from 2.1-2.3.\n",
        "\n",
        "* Do these two ETFs seem to live up to their names?\n",
        "\n",
        "* Plot the cumulative returns of both these ETFs along with SPY.\n",
        "\n",
        "* What do you conclude about levered ETFs?"
      ]
    },
    {
      "cell_type": "markdown",
      "id": "2ab4084a",
      "metadata": {
        "id": "2ab4084a"
      },
      "source": [
        "## 5.\n",
        "\n",
        "In `Section 2`, we estimated the replications using an intercept. Try the full-sample estimation, but this time without an intercept.\n",
        "\n",
        "$$\\begin{align}\n",
        "r^{\\hfri}_{t} &= \\alpha^{merr} + x_{t}^{\\merr}\\beta^{\\merr} + \\epsilon_{t}^{\\merr}\\\\[5pt]\n",
        "\\check{r}^{\\hfri}_{t} &= \\check{\\alpha}^{\\merr} + x_{t}^{\\merr}\\check{\\beta}^{\\merr}\n",
        "\\end{align}$$\n",
        "\n",
        "Report\n",
        "\n",
        "* the regression beta. How does it compare to the estimated beta with an intercept, $\\hat{\\beta}^{\\merr}$?\n",
        "\n",
        "* the mean of the fitted value, $\\check{r}^{\\hfri}_{t}$. How does it compare to the mean of the HFRI?\n",
        "\n",
        "* the correlations of the fitted values, $\\check{r}^{\\hfri}_{t}$ to the HFRI. How does the correlation compare to that of the fitted values with an intercept, $\\hat{r}^{\\hfri}_{t}$\n",
        "\n",
        "Do you think Merrill and ProShares fit their replicators with an intercept or not?"
      ]
    },
    {
      "cell_type": "markdown",
      "id": "2acea83e",
      "metadata": {
        "id": "2acea83e"
      },
      "source": [
        "***"
      ]
    }
  ],
  "metadata": {
    "colab": {
      "collapsed_sections": [
        "32a1eb4b"
      ],
      "provenance": []
    },
    "hide_input": false,
    "kernelspec": {
      "display_name": "a4_venv",
      "language": "python",
      "name": "python3"
    },
    "language_info": {
      "codemirror_mode": {
        "name": "ipython",
        "version": 3
      },
      "file_extension": ".py",
      "mimetype": "text/x-python",
      "name": "python",
      "nbconvert_exporter": "python",
      "pygments_lexer": "ipython3",
      "version": "3.11.0"
    }
  },
  "nbformat": 4,
  "nbformat_minor": 5
}
