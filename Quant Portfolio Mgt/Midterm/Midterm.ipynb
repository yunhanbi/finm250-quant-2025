{
 "cells": [
  {
   "cell_type": "markdown",
   "id": "5d9c6fb6",
   "metadata": {},
   "source": [
    "# Midterm Helper Functions"
   ]
  },
  {
   "cell_type": "code",
   "execution_count": null,
   "id": "cb82bf74",
   "metadata": {},
   "outputs": [],
   "source": [
    "# Loading Midterm (From 2024 Example) \n",
    "# Replace below with 2025 data\n",
    "FILEIN = '../data/midterm_data.xlsx'\n",
    "sheet_exrets = 'excess returns'\n",
    "sheet_spy = 'spy'\n",
    "\n",
    "retsx = pd.read_excel(FILEIN, sheet_name=sheet_exrets, index_col=0, parse_dates=[0])\n",
    "spy = pd.read_excel(FILEIN, sheet_name=sheet_spy, index_col=0, parse_dates=[0])\n",
    "\n",
    "# Import packages\n",
    "import pandas as pd\n",
    "import numpy as np\n",
    "import matplotlib.pyplot as plt\n",
    "import seaborn as sns\n",
    "import statsmodels.api as sm\n",
    "\n",
    "# Import helper functions from utils\n",
    "\n",
    "import sys\n",
    "sys.path.append(\"commands\")\n",
    "from utils import calc_risk_metrics, calc_return_metrics, calc_performance_metrics, calc_multivariate_regression, calc_mv_portfolio, calc_iterative_regression, calc_univariate_regression\n"
   ]
  },
  {
   "cell_type": "markdown",
   "id": "240b02d1",
   "metadata": {},
   "source": [
    "# 1. Report the following **annualized** statistics:\n",
    "\n",
    "* mean\n",
    "* volatility\n",
    "* Sharpe ratio"
   ]
  },
  {
   "cell_type": "code",
   "execution_count": null,
   "id": "206b78c1",
   "metadata": {},
   "outputs": [],
   "source": [
    "# Calculate annualized metrics for mean, vol, and sharpe ratio\n",
    "\n",
    "#adjusted for weekly data, adj = 52\n",
    "metrics = calc_return_metrics(retsx, as_df=True, adj=52)\n",
    "\n",
    "#adjusted for monthly data, adj = 12\n",
    "metrics = calc_return_metrics(retsx, as_df=True, adj=12)"
   ]
  },
  {
   "cell_type": "markdown",
   "id": "24a9031f",
   "metadata": {},
   "source": [
    "# 2. Report the weights of the tangency portfolio."
   ]
  },
  {
   "cell_type": "code",
   "execution_count": null,
   "id": "d2877678",
   "metadata": {},
   "outputs": [],
   "source": [
    "tan = calc_mv_portfolio(retsx.mean(), retsx.cov(), excess=True)\n",
    "tan = pd.DataFrame(data=tan, columns=['Tan Portfolio'], index=retsx.columns)"
   ]
  },
  {
   "cell_type": "markdown",
   "id": "6908e27b",
   "metadata": {},
   "source": [
    "# 3. Report the Sharpe ratio achieved by the tangency portfolio over this sample. Annualize it\n"
   ]
  },
  {
   "cell_type": "code",
   "execution_count": null,
   "id": "8e6d0d85",
   "metadata": {},
   "outputs": [],
   "source": [
    "# Calculate the sharpe ratio of the tan portfolio\n",
    "\n",
    "tan_rets = retsx.dot(tan)\n",
    "\n",
    "#adjusted for weekly data, adj = 52\n",
    "calc_performance_metrics(tan_rets, adj=52).T\n",
    "\n",
    "#adjusted for monthly data, adj = 12\n",
    "calc_performance_metrics(tan_rets, adj=12).T"
   ]
  },
  {
   "cell_type": "markdown",
   "id": "64d42451",
   "metadata": {},
   "source": []
  }
 ],
 "metadata": {
  "kernelspec": {
   "display_name": "base",
   "language": "python",
   "name": "python3"
  },
  "language_info": {
   "codemirror_mode": {
    "name": "ipython",
    "version": 3
   },
   "file_extension": ".py",
   "mimetype": "text/x-python",
   "name": "python",
   "nbconvert_exporter": "python",
   "pygments_lexer": "ipython3",
   "version": "3.12.7"
  }
 },
 "nbformat": 4,
 "nbformat_minor": 5
}
